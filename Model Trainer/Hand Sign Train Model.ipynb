{
 "cells": [
  {
   "cell_type": "code",
   "execution_count": 1,
   "id": "a18a339b",
   "metadata": {},
   "outputs": [
    {
     "data": {
      "text/html": [
       "<div>\n",
       "<style scoped>\n",
       "    .dataframe tbody tr th:only-of-type {\n",
       "        vertical-align: middle;\n",
       "    }\n",
       "\n",
       "    .dataframe tbody tr th {\n",
       "        vertical-align: top;\n",
       "    }\n",
       "\n",
       "    .dataframe thead th {\n",
       "        text-align: right;\n",
       "    }\n",
       "</style>\n",
       "<table border=\"1\" class=\"dataframe\">\n",
       "  <thead>\n",
       "    <tr style=\"text-align: right;\">\n",
       "      <th></th>\n",
       "      <th>0</th>\n",
       "      <th>1</th>\n",
       "      <th>2</th>\n",
       "      <th>3</th>\n",
       "      <th>4</th>\n",
       "      <th>5</th>\n",
       "      <th>6</th>\n",
       "      <th>7</th>\n",
       "      <th>8</th>\n",
       "      <th>9</th>\n",
       "      <th>...</th>\n",
       "      <th>54</th>\n",
       "      <th>55</th>\n",
       "      <th>56</th>\n",
       "      <th>57</th>\n",
       "      <th>58</th>\n",
       "      <th>59</th>\n",
       "      <th>60</th>\n",
       "      <th>61</th>\n",
       "      <th>62</th>\n",
       "      <th>label</th>\n",
       "    </tr>\n",
       "  </thead>\n",
       "  <tbody>\n",
       "    <tr>\n",
       "      <th>0</th>\n",
       "      <td>0.598195</td>\n",
       "      <td>0.369085</td>\n",
       "      <td>-9.940000e-07</td>\n",
       "      <td>0.482107</td>\n",
       "      <td>0.318487</td>\n",
       "      <td>-0.027174</td>\n",
       "      <td>0.387196</td>\n",
       "      <td>0.208353</td>\n",
       "      <td>-0.036685</td>\n",
       "      <td>0.371541</td>\n",
       "      <td>...</td>\n",
       "      <td>0.612718</td>\n",
       "      <td>0.001248</td>\n",
       "      <td>-0.036142</td>\n",
       "      <td>0.607546</td>\n",
       "      <td>0.087986</td>\n",
       "      <td>-0.011425</td>\n",
       "      <td>0.620635</td>\n",
       "      <td>0.111247</td>\n",
       "      <td>0.015639</td>\n",
       "      <td>1</td>\n",
       "    </tr>\n",
       "    <tr>\n",
       "      <th>1</th>\n",
       "      <td>0.605070</td>\n",
       "      <td>0.360427</td>\n",
       "      <td>-8.510000e-07</td>\n",
       "      <td>0.489012</td>\n",
       "      <td>0.320793</td>\n",
       "      <td>-0.025580</td>\n",
       "      <td>0.392510</td>\n",
       "      <td>0.222196</td>\n",
       "      <td>-0.029363</td>\n",
       "      <td>0.368045</td>\n",
       "      <td>...</td>\n",
       "      <td>0.621969</td>\n",
       "      <td>-0.003975</td>\n",
       "      <td>0.000077</td>\n",
       "      <td>0.619583</td>\n",
       "      <td>0.085435</td>\n",
       "      <td>0.021416</td>\n",
       "      <td>0.630278</td>\n",
       "      <td>0.104643</td>\n",
       "      <td>0.044985</td>\n",
       "      <td>1</td>\n",
       "    </tr>\n",
       "    <tr>\n",
       "      <th>2</th>\n",
       "      <td>0.601805</td>\n",
       "      <td>0.347371</td>\n",
       "      <td>-7.340000e-07</td>\n",
       "      <td>0.489414</td>\n",
       "      <td>0.313806</td>\n",
       "      <td>-0.028474</td>\n",
       "      <td>0.392249</td>\n",
       "      <td>0.217896</td>\n",
       "      <td>-0.032990</td>\n",
       "      <td>0.374153</td>\n",
       "      <td>...</td>\n",
       "      <td>0.614939</td>\n",
       "      <td>-0.005814</td>\n",
       "      <td>-0.003724</td>\n",
       "      <td>0.615325</td>\n",
       "      <td>0.078823</td>\n",
       "      <td>0.015363</td>\n",
       "      <td>0.624924</td>\n",
       "      <td>0.096571</td>\n",
       "      <td>0.037887</td>\n",
       "      <td>1</td>\n",
       "    </tr>\n",
       "    <tr>\n",
       "      <th>3</th>\n",
       "      <td>0.569249</td>\n",
       "      <td>0.397116</td>\n",
       "      <td>-1.010000e-06</td>\n",
       "      <td>0.483066</td>\n",
       "      <td>0.362269</td>\n",
       "      <td>-0.036260</td>\n",
       "      <td>0.404716</td>\n",
       "      <td>0.252801</td>\n",
       "      <td>-0.046160</td>\n",
       "      <td>0.398977</td>\n",
       "      <td>...</td>\n",
       "      <td>0.623288</td>\n",
       "      <td>0.036170</td>\n",
       "      <td>-0.056103</td>\n",
       "      <td>0.614596</td>\n",
       "      <td>0.140963</td>\n",
       "      <td>-0.037367</td>\n",
       "      <td>0.615015</td>\n",
       "      <td>0.175235</td>\n",
       "      <td>-0.010211</td>\n",
       "      <td>1</td>\n",
       "    </tr>\n",
       "    <tr>\n",
       "      <th>4</th>\n",
       "      <td>0.557619</td>\n",
       "      <td>0.501669</td>\n",
       "      <td>-1.120000e-06</td>\n",
       "      <td>0.468875</td>\n",
       "      <td>0.452628</td>\n",
       "      <td>-0.022210</td>\n",
       "      <td>0.415161</td>\n",
       "      <td>0.368780</td>\n",
       "      <td>-0.022902</td>\n",
       "      <td>0.398612</td>\n",
       "      <td>...</td>\n",
       "      <td>0.627556</td>\n",
       "      <td>0.171866</td>\n",
       "      <td>-0.002560</td>\n",
       "      <td>0.613509</td>\n",
       "      <td>0.243276</td>\n",
       "      <td>0.017234</td>\n",
       "      <td>0.616705</td>\n",
       "      <td>0.261160</td>\n",
       "      <td>0.042494</td>\n",
       "      <td>1</td>\n",
       "    </tr>\n",
       "  </tbody>\n",
       "</table>\n",
       "<p>5 rows × 64 columns</p>\n",
       "</div>"
      ],
      "text/plain": [
       "          0         1             2         3         4         5         6  \\\n",
       "0  0.598195  0.369085 -9.940000e-07  0.482107  0.318487 -0.027174  0.387196   \n",
       "1  0.605070  0.360427 -8.510000e-07  0.489012  0.320793 -0.025580  0.392510   \n",
       "2  0.601805  0.347371 -7.340000e-07  0.489414  0.313806 -0.028474  0.392249   \n",
       "3  0.569249  0.397116 -1.010000e-06  0.483066  0.362269 -0.036260  0.404716   \n",
       "4  0.557619  0.501669 -1.120000e-06  0.468875  0.452628 -0.022210  0.415161   \n",
       "\n",
       "          7         8         9  ...        54        55        56        57  \\\n",
       "0  0.208353 -0.036685  0.371541  ...  0.612718  0.001248 -0.036142  0.607546   \n",
       "1  0.222196 -0.029363  0.368045  ...  0.621969 -0.003975  0.000077  0.619583   \n",
       "2  0.217896 -0.032990  0.374153  ...  0.614939 -0.005814 -0.003724  0.615325   \n",
       "3  0.252801 -0.046160  0.398977  ...  0.623288  0.036170 -0.056103  0.614596   \n",
       "4  0.368780 -0.022902  0.398612  ...  0.627556  0.171866 -0.002560  0.613509   \n",
       "\n",
       "         58        59        60        61        62  label  \n",
       "0  0.087986 -0.011425  0.620635  0.111247  0.015639      1  \n",
       "1  0.085435  0.021416  0.630278  0.104643  0.044985      1  \n",
       "2  0.078823  0.015363  0.624924  0.096571  0.037887      1  \n",
       "3  0.140963 -0.037367  0.615015  0.175235 -0.010211      1  \n",
       "4  0.243276  0.017234  0.616705  0.261160  0.042494      1  \n",
       "\n",
       "[5 rows x 64 columns]"
      ]
     },
     "execution_count": 1,
     "metadata": {},
     "output_type": "execute_result"
    }
   ],
   "source": [
    "import pandas as pd\n",
    "import numpy as np\n",
    "import matplotlib.pyplot as plt\n",
    "import tensorflow as tf\n",
    "import keras as ks\n",
    "\n",
    "\n",
    "hands_df=pd.read_csv(\"D:\\\\IVY Batches\\\\MY ML DL Projects\\\\CNN\\\\Hand Signs\\\\Dataset.csv\")\n",
    "hands_df.head()"
   ]
  },
  {
   "cell_type": "code",
   "execution_count": 7,
   "id": "3975d38d",
   "metadata": {},
   "outputs": [],
   "source": [
    "# hands_df.to_csv(\"D:\\\\IVY Batches\\\\MY ML DL Projects\\\\CNN\\\\Hand Signs\\\\Dataset.csv\",index=False,header=True)\n"
   ]
  },
  {
   "cell_type": "code",
   "execution_count": 8,
   "id": "2ebbda38",
   "metadata": {},
   "outputs": [],
   "source": [
    "from sklearn.preprocessing import StandardScaler\n",
    "from sklearn.model_selection import train_test_split\n",
    "\n",
    "X=hands_df[hands_df.columns[:-1]]\n",
    "y=hands_df[hands_df.columns[-1]]\n",
    "\n",
    "\n",
    "X_train,X_test,y_train,y_test=train_test_split(X,y,test_size=0.2,random_state=456,shuffle=True)\n"
   ]
  },
  {
   "cell_type": "code",
   "execution_count": 9,
   "id": "12bc5a15",
   "metadata": {},
   "outputs": [],
   "source": [
    "scaler=StandardScaler()\n",
    "scaler_fit=scaler.fit(X_train.values)\n",
    "X_train=scaler_fit.transform(X_train.values)\n",
    "X_test=scaler_fit.transform(X_test.values)"
   ]
  },
  {
   "cell_type": "code",
   "execution_count": 10,
   "id": "536fda0a",
   "metadata": {},
   "outputs": [
    {
     "data": {
      "text/plain": [
       "array([[ 0.75615813,  0.25733631,  1.65607542, ...,  0.79929216,\n",
       "         1.08411331, -0.82600188],\n",
       "       [ 0.90736369,  0.82169562,  2.0999967 , ...,  0.94821917,\n",
       "         1.29714993, -0.75526138],\n",
       "       [ 0.28375914, -0.57646625,  0.87596786, ...,  0.13355193,\n",
       "        -0.48892528,  1.11746974],\n",
       "       ...,\n",
       "       [ 0.89624689,  0.42254273,  0.10424284, ...,  0.44759086,\n",
       "         0.95783506, -0.38288362],\n",
       "       [ 0.88435046,  0.08168785, -0.65749383, ...,  0.96979712,\n",
       "         0.59076644,  1.59461353],\n",
       "       [-0.96342179, -1.02516382, -0.51437248, ..., -1.6695654 ,\n",
       "        -0.32042312,  0.30056275]])"
      ]
     },
     "execution_count": 10,
     "metadata": {},
     "output_type": "execute_result"
    }
   ],
   "source": [
    "X_train"
   ]
  },
  {
   "cell_type": "markdown",
   "id": "bc477b1c",
   "metadata": {},
   "source": [
    "### ANN Model"
   ]
  },
  {
   "cell_type": "code",
   "execution_count": 11,
   "id": "233ee3ac",
   "metadata": {},
   "outputs": [],
   "source": [
    "from tensorflow.keras.models import Sequential\n",
    "from tensorflow.keras.layers import Dense,Dropout\n",
    "\n",
    "\n",
    "model=Sequential()\n",
    "\n",
    "model.add(Dense(units=40,input_dim=X_train.shape[1],activation='relu'))\n",
    "model.add(Dropout(0.2))\n",
    "\n",
    "\n",
    "model.add(Dense(units=30,activation='relu'))\n",
    "model.add(Dropout(0.4))\n",
    "\n",
    "model.add(Dense(units=10,activation='softmax'))\n",
    "\n",
    "\n",
    "model.compile(optimizer='adam',loss='categorical_crossentropy',metrics=['accuracy'])\n",
    "\n"
   ]
  },
  {
   "cell_type": "code",
   "execution_count": 12,
   "id": "7d0a7ae6",
   "metadata": {
    "scrolled": true
   },
   "outputs": [
    {
     "name": "stdout",
     "output_type": "stream",
     "text": [
      "Epoch 1/50\n",
      "82/82 [==============================] - 2s 5ms/step - loss: 1.9916 - accuracy: 0.3209 - val_loss: 1.3806 - val_accuracy: 0.6470\n",
      "Epoch 2/50\n",
      "82/82 [==============================] - 0s 2ms/step - loss: 1.3118 - accuracy: 0.5812 - val_loss: 0.7502 - val_accuracy: 0.8419\n",
      "Epoch 3/50\n",
      "82/82 [==============================] - 0s 2ms/step - loss: 0.8758 - accuracy: 0.7331 - val_loss: 0.4297 - val_accuracy: 0.8997\n",
      "Epoch 4/50\n",
      "82/82 [==============================] - 0s 2ms/step - loss: 0.6510 - accuracy: 0.8040 - val_loss: 0.3184 - val_accuracy: 0.9206\n",
      "Epoch 5/50\n",
      "82/82 [==============================] - 0s 2ms/step - loss: 0.5474 - accuracy: 0.8372 - val_loss: 0.2566 - val_accuracy: 0.9288\n",
      "Epoch 6/50\n",
      "82/82 [==============================] - 0s 2ms/step - loss: 0.4743 - accuracy: 0.8607 - val_loss: 0.2191 - val_accuracy: 0.9376\n",
      "Epoch 7/50\n",
      "82/82 [==============================] - 0s 2ms/step - loss: 0.4172 - accuracy: 0.8754 - val_loss: 0.1929 - val_accuracy: 0.9451\n",
      "Epoch 8/50\n",
      "82/82 [==============================] - 0s 2ms/step - loss: 0.3873 - accuracy: 0.8846 - val_loss: 0.1791 - val_accuracy: 0.9497\n",
      "Epoch 9/50\n",
      "82/82 [==============================] - 0s 2ms/step - loss: 0.3661 - accuracy: 0.8935 - val_loss: 0.1642 - val_accuracy: 0.9513\n",
      "Epoch 10/50\n",
      "82/82 [==============================] - 0s 2ms/step - loss: 0.3375 - accuracy: 0.9006 - val_loss: 0.1516 - val_accuracy: 0.9549\n",
      "Epoch 11/50\n",
      "82/82 [==============================] - 0s 2ms/step - loss: 0.3223 - accuracy: 0.9073 - val_loss: 0.1445 - val_accuracy: 0.9562\n",
      "Epoch 12/50\n",
      "82/82 [==============================] - 0s 2ms/step - loss: 0.3034 - accuracy: 0.9104 - val_loss: 0.1373 - val_accuracy: 0.9585\n",
      "Epoch 13/50\n",
      "82/82 [==============================] - 0s 3ms/step - loss: 0.2854 - accuracy: 0.9175 - val_loss: 0.1309 - val_accuracy: 0.9602\n",
      "Epoch 14/50\n",
      "82/82 [==============================] - 0s 3ms/step - loss: 0.2796 - accuracy: 0.9197 - val_loss: 0.1236 - val_accuracy: 0.9592\n",
      "Epoch 15/50\n",
      "82/82 [==============================] - 0s 4ms/step - loss: 0.2608 - accuracy: 0.9259 - val_loss: 0.1180 - val_accuracy: 0.9644\n",
      "Epoch 16/50\n",
      "82/82 [==============================] - 0s 3ms/step - loss: 0.2584 - accuracy: 0.9267 - val_loss: 0.1159 - val_accuracy: 0.9637\n",
      "Epoch 17/50\n",
      "82/82 [==============================] - 0s 2ms/step - loss: 0.2560 - accuracy: 0.9248 - val_loss: 0.1148 - val_accuracy: 0.9664\n",
      "Epoch 18/50\n",
      "82/82 [==============================] - 0s 3ms/step - loss: 0.2452 - accuracy: 0.9304 - val_loss: 0.1118 - val_accuracy: 0.9637\n",
      "Epoch 19/50\n",
      "82/82 [==============================] - 0s 3ms/step - loss: 0.2332 - accuracy: 0.9344 - val_loss: 0.1068 - val_accuracy: 0.9670\n",
      "Epoch 20/50\n",
      "82/82 [==============================] - 0s 2ms/step - loss: 0.2282 - accuracy: 0.9362 - val_loss: 0.1029 - val_accuracy: 0.9706\n",
      "Epoch 21/50\n",
      "82/82 [==============================] - 0s 3ms/step - loss: 0.2230 - accuracy: 0.9361 - val_loss: 0.1001 - val_accuracy: 0.9673\n",
      "Epoch 22/50\n",
      "82/82 [==============================] - 0s 3ms/step - loss: 0.2158 - accuracy: 0.9382 - val_loss: 0.0992 - val_accuracy: 0.9686\n",
      "Epoch 23/50\n",
      "82/82 [==============================] - 0s 2ms/step - loss: 0.2108 - accuracy: 0.9411 - val_loss: 0.1005 - val_accuracy: 0.9673\n",
      "Epoch 24/50\n",
      "82/82 [==============================] - 0s 2ms/step - loss: 0.2070 - accuracy: 0.9411 - val_loss: 0.0945 - val_accuracy: 0.9703\n",
      "Epoch 25/50\n",
      "82/82 [==============================] - 0s 2ms/step - loss: 0.2082 - accuracy: 0.9401 - val_loss: 0.0960 - val_accuracy: 0.9726\n",
      "Epoch 26/50\n",
      "82/82 [==============================] - 0s 2ms/step - loss: 0.1940 - accuracy: 0.9446 - val_loss: 0.0934 - val_accuracy: 0.9713\n",
      "Epoch 27/50\n",
      "82/82 [==============================] - 0s 3ms/step - loss: 0.1949 - accuracy: 0.9456 - val_loss: 0.0903 - val_accuracy: 0.9722\n",
      "Epoch 28/50\n",
      "82/82 [==============================] - 0s 2ms/step - loss: 0.1862 - accuracy: 0.9470 - val_loss: 0.0880 - val_accuracy: 0.9735\n",
      "Epoch 29/50\n",
      "82/82 [==============================] - 0s 2ms/step - loss: 0.1830 - accuracy: 0.9465 - val_loss: 0.0852 - val_accuracy: 0.9749\n",
      "Epoch 30/50\n",
      "82/82 [==============================] - 0s 2ms/step - loss: 0.1841 - accuracy: 0.9482 - val_loss: 0.0825 - val_accuracy: 0.9749\n",
      "Epoch 31/50\n",
      "82/82 [==============================] - 0s 2ms/step - loss: 0.1805 - accuracy: 0.9475 - val_loss: 0.0839 - val_accuracy: 0.9781\n",
      "Epoch 32/50\n",
      "82/82 [==============================] - 0s 2ms/step - loss: 0.1767 - accuracy: 0.9504 - val_loss: 0.0841 - val_accuracy: 0.9768\n",
      "Epoch 33/50\n",
      "82/82 [==============================] - 0s 2ms/step - loss: 0.1737 - accuracy: 0.9503 - val_loss: 0.0793 - val_accuracy: 0.9762\n",
      "Epoch 34/50\n",
      "82/82 [==============================] - 0s 2ms/step - loss: 0.1670 - accuracy: 0.9518 - val_loss: 0.0779 - val_accuracy: 0.9775\n",
      "Epoch 35/50\n",
      "82/82 [==============================] - 0s 2ms/step - loss: 0.1716 - accuracy: 0.9528 - val_loss: 0.0793 - val_accuracy: 0.9755\n",
      "Epoch 36/50\n",
      "82/82 [==============================] - 0s 3ms/step - loss: 0.1638 - accuracy: 0.9535 - val_loss: 0.0784 - val_accuracy: 0.9778\n",
      "Epoch 37/50\n",
      "82/82 [==============================] - 0s 3ms/step - loss: 0.1619 - accuracy: 0.9543 - val_loss: 0.0774 - val_accuracy: 0.9778\n",
      "Epoch 38/50\n",
      "82/82 [==============================] - 0s 3ms/step - loss: 0.1586 - accuracy: 0.9571 - val_loss: 0.0751 - val_accuracy: 0.9788\n",
      "Epoch 39/50\n",
      "82/82 [==============================] - 0s 3ms/step - loss: 0.1580 - accuracy: 0.9569 - val_loss: 0.0737 - val_accuracy: 0.9791\n",
      "Epoch 40/50\n",
      "82/82 [==============================] - 0s 3ms/step - loss: 0.1578 - accuracy: 0.9548 - val_loss: 0.0718 - val_accuracy: 0.9791\n",
      "Epoch 41/50\n",
      "82/82 [==============================] - 0s 2ms/step - loss: 0.1558 - accuracy: 0.9547 - val_loss: 0.0731 - val_accuracy: 0.9794\n",
      "Epoch 42/50\n",
      "82/82 [==============================] - 0s 2ms/step - loss: 0.1511 - accuracy: 0.9589 - val_loss: 0.0724 - val_accuracy: 0.9784\n",
      "Epoch 43/50\n",
      "82/82 [==============================] - 0s 3ms/step - loss: 0.1497 - accuracy: 0.9589 - val_loss: 0.0707 - val_accuracy: 0.9798\n",
      "Epoch 44/50\n",
      "82/82 [==============================] - 0s 2ms/step - loss: 0.1545 - accuracy: 0.9565 - val_loss: 0.0725 - val_accuracy: 0.9784\n",
      "Epoch 45/50\n",
      "82/82 [==============================] - 0s 2ms/step - loss: 0.1463 - accuracy: 0.9597 - val_loss: 0.0733 - val_accuracy: 0.9781\n",
      "Epoch 46/50\n",
      "82/82 [==============================] - 0s 2ms/step - loss: 0.1499 - accuracy: 0.9581 - val_loss: 0.0710 - val_accuracy: 0.9801\n",
      "Epoch 47/50\n",
      "82/82 [==============================] - 0s 2ms/step - loss: 0.1427 - accuracy: 0.9594 - val_loss: 0.0685 - val_accuracy: 0.9798\n",
      "Epoch 48/50\n",
      "82/82 [==============================] - 0s 2ms/step - loss: 0.1358 - accuracy: 0.9603 - val_loss: 0.0681 - val_accuracy: 0.9794\n",
      "Epoch 49/50\n",
      "82/82 [==============================] - 0s 2ms/step - loss: 0.1393 - accuracy: 0.9592 - val_loss: 0.0677 - val_accuracy: 0.9807\n",
      "Epoch 50/50\n",
      "82/82 [==============================] - 0s 2ms/step - loss: 0.1398 - accuracy: 0.9608 - val_loss: 0.0689 - val_accuracy: 0.9784\n"
     ]
    },
    {
     "data": {
      "text/plain": [
       "<keras.callbacks.History at 0x1cd9393cd30>"
      ]
     },
     "execution_count": 12,
     "metadata": {},
     "output_type": "execute_result"
    }
   ],
   "source": [
    "model.fit(X_train,pd.get_dummies(y_train),epochs=50,batch_size=150,verbose=1,validation_data=(X_test,pd.get_dummies(y_test)))"
   ]
  },
  {
   "cell_type": "code",
   "execution_count": 13,
   "id": "1a49da14",
   "metadata": {},
   "outputs": [
    {
     "data": {
      "text/plain": [
       "array([[1.8521964e-13, 2.1861291e-09, 7.8104495e-10, ..., 6.5564623e-15,\n",
       "        4.4173674e-08, 3.3923003e-11],\n",
       "       [5.8049180e-11, 2.3173703e-08, 9.9999833e-01, ..., 1.5685817e-09,\n",
       "        2.1068118e-09, 3.3121987e-09],\n",
       "       [5.8553513e-09, 5.0101766e-11, 1.1382239e-07, ..., 5.4489906e-08,\n",
       "        9.9999225e-01, 6.5611356e-09],\n",
       "       ...,\n",
       "       [2.9224355e-02, 5.0050324e-01, 4.6578697e-03, ..., 1.4827695e-03,\n",
       "        9.5343618e-03, 5.1602145e-04],\n",
       "       [9.4385707e-01, 4.1898713e-02, 1.5949544e-04, ..., 4.1219234e-03,\n",
       "        2.7926315e-03, 2.2262029e-04],\n",
       "       [8.4250188e-04, 3.8422677e-05, 6.9293589e-04, ..., 1.7928517e-06,\n",
       "        1.5402540e-04, 6.2147970e-05]], dtype=float32)"
      ]
     },
     "execution_count": 13,
     "metadata": {},
     "output_type": "execute_result"
    }
   ],
   "source": [
    "model.predict(X_test)"
   ]
  },
  {
   "cell_type": "code",
   "execution_count": 14,
   "id": "2bd5bb51",
   "metadata": {},
   "outputs": [],
   "source": [
    "import pickle as pkl\n",
    "\n",
    "with open(\"D:\\\\IVY Batches\\\\MY ML DL Projects\\\\CNN\\\\Hand Signs\\\\trained_scaler_model.pkl\",'wb') as fil:\n",
    "    pkl.dump(scaler_fit,fil)"
   ]
  },
  {
   "cell_type": "code",
   "execution_count": 15,
   "id": "af147b93",
   "metadata": {},
   "outputs": [],
   "source": [
    "with open(\"D:\\\\IVY Batches\\\\MY ML DL Projects\\\\CNN\\\\Hand Signs\\\\trained_scaler_model.pkl\",'rb') as fil:\n",
    "     trained_scaler_model=pkl.load(fil)"
   ]
  },
  {
   "cell_type": "code",
   "execution_count": 16,
   "id": "eeea2fa7",
   "metadata": {},
   "outputs": [
    {
     "name": "stdout",
     "output_type": "stream",
     "text": [
      "INFO:tensorflow:Assets written to: D:\\IVY Batches\\MY ML DL Projects\\CNN\\Hand Signs\\trained_model\\assets\n"
     ]
    }
   ],
   "source": [
    "model.save(\"D:\\\\IVY Batches\\\\MY ML DL Projects\\\\CNN\\\\Hand Signs\\\\trained_model\")"
   ]
  },
  {
   "cell_type": "code",
   "execution_count": 58,
   "id": "fc187c8e",
   "metadata": {},
   "outputs": [],
   "source": [
    "model2=ks.models.load_model(\"D:\\\\IVY Batches\\\\MY ML DL Projects\\\\CNN\\\\Hand Signs\\\\trained_model\")"
   ]
  },
  {
   "cell_type": "code",
   "execution_count": 17,
   "id": "ee9603b0",
   "metadata": {},
   "outputs": [],
   "source": [
    "# model2.predict(list(X_test[0]).reshape(1,-1)).argmax()"
   ]
  },
  {
   "cell_type": "code",
   "execution_count": null,
   "id": "b097976f",
   "metadata": {},
   "outputs": [],
   "source": []
  }
 ],
 "metadata": {
  "kernelspec": {
   "display_name": "Python 3 (ipykernel)",
   "language": "python",
   "name": "python3"
  },
  "language_info": {
   "codemirror_mode": {
    "name": "ipython",
    "version": 3
   },
   "file_extension": ".py",
   "mimetype": "text/x-python",
   "name": "python",
   "nbconvert_exporter": "python",
   "pygments_lexer": "ipython3",
   "version": "3.8.3"
  }
 },
 "nbformat": 4,
 "nbformat_minor": 5
}
